{
 "cells": [
  {
   "cell_type": "code",
   "execution_count": null,
   "id": "initial_id",
   "metadata": {
    "collapsed": true
   },
   "outputs": [],
   "source": [
    "def merge_sort(arr):\n",
    "    if len(arr) <= 1:\n",
    "        return arr  # 递归终止条件：当数组长度为1或空时，直接返回\n",
    "\n",
    "    # 分割数组\n",
    "    mid = len(arr) // 2\n",
    "    left_half = merge_sort(arr[:mid])  # 递归排序左半部分\n",
    "    right_half = merge_sort(arr[mid:])  # 递归排序右半部分\n",
    "\n",
    "    # 合并两个有序数组\n",
    "    return merge(left_half, right_half)\n",
    "\n",
    "def merge(left, right):\n",
    "    sorted_list = []\n",
    "    i = j = 0\n",
    "\n",
    "    # 依次比较两个子数组的元素，按顺序合并\n",
    "    while i < len(left) and j < len(right):\n",
    "        if left[i] < right[j]:\n",
    "            sorted_list.append(left[i])\n",
    "            i += 1\n",
    "        else:\n",
    "            sorted_list.append(right[j])\n",
    "            j += 1\n",
    "\n",
    "    # 若左半部分有剩余，则加入结果\n",
    "    sorted_list.extend(left[i:])\n",
    "    # 若右半部分有剩余，则加入结果\n",
    "    sorted_list.extend(right[j:])\n",
    "\n",
    "    return sorted_list\n",
    "\n",
    "# 测试\n",
    "arr = [38, 27, 43, 3, 9, 82, 10]\n",
    "sorted_arr = merge_sort(arr)\n",
    "print(\"排序后:\", sorted_arr)\n"
   ]
  },
  {
   "metadata": {},
   "cell_type": "markdown",
   "source": [
    "基本思想是：\n",
    "\n",
    "递归分解：将数组不断拆分成两半，直到每个子数组只包含一个元素。\n",
    "\n",
    "合并排序：将相邻的两个有序子数组合并成一个有序数组，直到最终得到完整的排序数组。"
   ],
   "id": "a78a81939f81da04"
  }
 ],
 "metadata": {
  "kernelspec": {
   "display_name": "Python 3",
   "language": "python",
   "name": "python3"
  },
  "language_info": {
   "codemirror_mode": {
    "name": "ipython",
    "version": 2
   },
   "file_extension": ".py",
   "mimetype": "text/x-python",
   "name": "python",
   "nbconvert_exporter": "python",
   "pygments_lexer": "ipython2",
   "version": "2.7.6"
  }
 },
 "nbformat": 4,
 "nbformat_minor": 5
}
