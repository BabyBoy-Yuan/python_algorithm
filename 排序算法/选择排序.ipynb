{
 "cells": [
  {
   "metadata": {},
   "cell_type": "markdown",
   "source": "这个就不多说了",
   "id": "d65dc9dadbf71205"
  },
  {
   "metadata": {
    "ExecuteTime": {
     "end_time": "2025-03-14T14:13:18.227671Z",
     "start_time": "2025-03-14T14:13:18.211714Z"
    }
   },
   "cell_type": "code",
   "source": [
    "def selection_sort(data_list):\n",
    "    for i in range(len(data_list)-1):\n",
    "        for j in range(i+1, len(data_list)):\n",
    "            if data_list[j] < data_list[i]:  # 小于号 正序， 大于号倒叙\n",
    "                data_list[j], data_list[i] = data_list[i], data_list[j]\n",
    "        print(f\"number: {i} data: {data_list}\")\n",
    "\n",
    "\n",
    "if __name__ == '__main__':\n",
    "    data = [18, 1, 23, 16, 5, 2, 87]\n",
    "    selection_sort(data)"
   ],
   "id": "ff3131d0d2341550",
   "outputs": [
    {
     "name": "stdout",
     "output_type": "stream",
     "text": [
      "number: 0 data: [87, 1, 18, 16, 5, 2, 23]\n",
      "number: 1 data: [87, 23, 1, 16, 5, 2, 18]\n",
      "number: 2 data: [87, 23, 18, 1, 5, 2, 16]\n",
      "number: 3 data: [87, 23, 18, 16, 1, 2, 5]\n",
      "number: 4 data: [87, 23, 18, 16, 5, 1, 2]\n",
      "number: 5 data: [87, 23, 18, 16, 5, 2, 1]\n"
     ]
    }
   ],
   "execution_count": 2
  }
 ],
 "metadata": {
  "kernelspec": {
   "display_name": "Python 3",
   "language": "python",
   "name": "python3"
  },
  "language_info": {
   "codemirror_mode": {
    "name": "ipython",
    "version": 2
   },
   "file_extension": ".py",
   "mimetype": "text/x-python",
   "name": "python",
   "nbconvert_exporter": "python",
   "pygments_lexer": "ipython2",
   "version": "2.7.6"
  }
 },
 "nbformat": 4,
 "nbformat_minor": 5
}
