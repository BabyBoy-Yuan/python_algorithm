{
 "cells": [
  {
   "metadata": {},
   "cell_type": "raw",
   "source": "设假有一个数组：[64, 34, 25, 12, 22, 11, 90]\n",
   "id": "37a94cad9d16ef41"
  },
  {
   "metadata": {},
   "cell_type": "code",
   "outputs": [],
   "execution_count": null,
   "source": [
    "def insertion_sort(arr):\n",
    "    for i in range(1, len(arr)):\n",
    "        key = arr[i]\n",
    "        j = i - 1\n",
    "        while j >= 0 and arr[j] > key:\n",
    "            arr[j + 1] = arr[j]\n",
    "            j -= 1\n",
    "        arr[j + 1] = key\n",
    "    return arr\n",
    "\n",
    "# 示例\n",
    "arr = [64, 34, 25, 12, 22, 11, 90]\n",
    "sorted_arr = insertion_sort(arr)\n",
    "print(\"排序后的数组:\", sorted_arr)"
   ],
   "id": "dfbd9703295020bf"
  },
  {
   "metadata": {},
   "cell_type": "markdown",
   "source": [
    "第一次循环：\n",
    "\n",
    "    i = 1\n",
    "\n",
    "    key = arr[i] = 34\n",
    "\n",
    "    j = 0\n",
    "\n",
    "    当 j >= 0 且 (arr[0] > key) 64 > 34 时：\n",
    "\n",
    "    arr[0+1] = arr[0]  交换位置\n",
    "\n",
    "    arr[j+1] = key  key第一次循环为34，上一步中j -= 1 = -1， 所以这一步 arr[-1 + 1] = key = 34\n",
    "\n",
    "    第一次排序后： [34, 64, 25, 12, 22, 11, 90]\n",
    "\n",
    "第二次循环：\n",
    "\n",
    "    当前数组： [34, 64, 25, 12, 22, 11, 90]\n",
    "\n",
    "    i = 2\n",
    "\n",
    "    key  =arr[2] = 25\n",
    "\n",
    "    j = 2 - 1 = 1\n",
    "\n",
    "    当 j(j=1) >= 0 and arr[j](arr[1]=64) > 25:\n",
    "\n",
    "        arr[j+1]即arr[2]=arr[1], 此时数组为： [34, 64, 64, 12, 22, 11, 90]\n",
    "\n",
    "        j -= 1 = 0, j = 0 >= 0 and arr[j](arr[0]=34) > 25\n",
    "\n",
    "        arr[1] = arr[0] 此时数组为: [34, 34, 64, 12, 22, 11, 90]\n",
    "\n",
    "        j -= 1 = -1\n",
    "\n",
    "        退出循环\n",
    "\n",
    "    arr[j + 1] = key 即arr[-1 + 1] = arr[0] = 25, [25, 34, 64, 12, 22, 11, 90]\n"
   ],
   "id": "2027d0cb38d97ced"
  }
 ],
 "metadata": {
  "kernelspec": {
   "display_name": "Python 3",
   "language": "python",
   "name": "python3"
  },
  "language_info": {
   "codemirror_mode": {
    "name": "ipython",
    "version": 2
   },
   "file_extension": ".py",
   "mimetype": "text/x-python",
   "name": "python",
   "nbconvert_exporter": "python",
   "pygments_lexer": "ipython2",
   "version": "2.7.6"
  }
 },
 "nbformat": 4,
 "nbformat_minor": 5
}
