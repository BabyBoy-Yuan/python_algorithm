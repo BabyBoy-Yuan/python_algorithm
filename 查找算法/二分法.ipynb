{
 "cells": [
  {
   "cell_type": "code",
   "execution_count": null,
   "id": "initial_id",
   "metadata": {
    "collapsed": true
   },
   "outputs": [],
   "source": "# 二分法将排序后的数据分割成二等份，先与中间比较，小于的话就在左半段，大于在右半段"
  },
  {
   "metadata": {
    "ExecuteTime": {
     "end_time": "2025-03-10T15:03:25.960906Z",
     "start_time": "2025-03-10T15:03:20.188289Z"
    }
   },
   "cell_type": "code",
   "source": [
    "search_number_list = [10, 20, 25, 40, 55, 70, 98, 102, 150]\n",
    "def search_number(number, data):\n",
    "    low = 0\n",
    "    high = len(data) - 1  # 获取最高索引位\n",
    "    while low <= high and number != -1:\n",
    "        mid = int((low + high) / 2)\n",
    "        if data[mid] == number:  # 如果取中位时，恰好等于要查找的数字，直接返回\n",
    "            return mid\n",
    "        elif data[mid] > number:  # 如果选择的中位数字大于查找的数字，则我们想要查找的数字在左边，所以需要将最高位变为中位减1\n",
    "            high = mid - 1\n",
    "        else:\n",
    "            low = mid + 1 # 如果选择的中位数字小于查找的数字，则我们想要查找的数字在右边，所以需要将最低位置变为中位加1\n",
    "\n",
    "while True:\n",
    "    find_number = int(input(\"number you want to find: \"))\n",
    "    if find_number == -1:\n",
    "        break\n",
    "    search_result = search_number(find_number, search_number_list)\n",
    "    if search_result != -1:\n",
    "        print(\"number found: \", find_number, \"number index: \", search_result)\n",
    "\n"
   ],
   "id": "5b1bca909831cf84",
   "outputs": [
    {
     "name": "stdout",
     "output_type": "stream",
     "text": [
      "number found:  20 number index:  1\n"
     ]
    }
   ],
   "execution_count": 3
  },
  {
   "metadata": {},
   "cell_type": "code",
   "outputs": [],
   "execution_count": null,
   "source": "",
   "id": "4baa302dfbc08321"
  }
 ],
 "metadata": {
  "kernelspec": {
   "display_name": "Python 3",
   "language": "python",
   "name": "python3"
  },
  "language_info": {
   "codemirror_mode": {
    "name": "ipython",
    "version": 2
   },
   "file_extension": ".py",
   "mimetype": "text/x-python",
   "name": "python",
   "nbconvert_exporter": "python",
   "pygments_lexer": "ipython2",
   "version": "2.7.6"
  }
 },
 "nbformat": 4,
 "nbformat_minor": 5
}
