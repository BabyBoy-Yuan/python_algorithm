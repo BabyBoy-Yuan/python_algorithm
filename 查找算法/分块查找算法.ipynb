{
 "cells": [
  {
   "cell_type": "code",
   "execution_count": null,
   "id": "initial_id",
   "metadata": {
    "collapsed": true
   },
   "outputs": [],
   "source": [
    ""
   ]
  },
  {
   "metadata": {},
   "cell_type": "markdown",
   "source": "分块查找算法是将数据分成很多小块，取每个小块的最大值，当判断一个数字时，去跟每小块的最大值取匹配，然后在取匹配的小块中查找需要的值",
   "id": "1555246c339d6d06"
  },
  {
   "metadata": {},
   "cell_type": "code",
   "outputs": [],
   "execution_count": null,
   "source": [
    "from os.path import split\n",
    "from typing import List\n",
    "\n",
    "\n",
    "class ChunkSearch:\n",
    "    def __init__(self, data: List[int], search_number: int) -> None:\n",
    "        self.data = data\n",
    "        self.search_number = search_number\n",
    "        self.chunk_number = 5\n",
    "\n",
    "    def split_data(self):\n",
    "        \"\"\"\n",
    "        分块操作\n",
    "        :return:\n",
    "        \"\"\"\n",
    "        split_data_list = []\n",
    "        each_max_number_list = []\n",
    "        data_len = len(self.data)\n",
    "        each_chunk_number = int(data_len // self.chunk_number)\n",
    "        for i in range(0, data_len, each_chunk_number):\n",
    "            split_chunk_list = self.data[i:i + each_chunk_number]\n",
    "            split_data_list.append(split_chunk_list)\n",
    "            each_max_number_list.append(split_chunk_list[-1])\n",
    "        return split_data_list, each_max_number_list\n",
    "\n",
    "    # def check_search_number_belong_chunk(self, each_max_number_list):\n",
    "    #     list_left_index = 0\n",
    "    #     max_number_list_len = len(each_max_number_list)\n",
    "    #     list_right_index = max_number_list_len - 1\n",
    "    #     while list_left_index <= list_right_index:\n",
    "    #         mid_index = int((list_left_index + list_right_index) / 2)\n",
    "    #         if each_max_number_list[mid_index] == self.search_number:\n",
    "    #             return mid_index\n",
    "    #         elif each_max_number_list[mid_index] > self.search_number:\n",
    "    #             list_right_index = mid_index - 1\n",
    "    #             if each_max_number_list[list_right_index] < self.search_number:\n",
    "    #                 return mid_index\n",
    "    #         elif each_max_number_list[mid_index] < self.search_number:\n",
    "    #             list_left_index = mid_index + 1\n",
    "    #             if each_max_number_list[list_left_index] > self.search_number:\n",
    "    #                 return list_left_index\n",
    "    def check_search_number_belong_chunk(self, each_max_number_list):\n",
    "        '''\n",
    "        选择所在数组\n",
    "        :param each_max_number_list: 需要选择的最大值数值\n",
    "        :return: 大值数组的索引\n",
    "        '''\n",
    "        list_left_index = 0\n",
    "        list_right_index = len(each_max_number_list) - 1\n",
    "\n",
    "        while list_left_index <= list_right_index:\n",
    "            mid_index = (list_left_index + list_right_index) // 2\n",
    "            mid_value = each_max_number_list[mid_index]\n",
    "\n",
    "            if mid_value == self.search_number:\n",
    "                return mid_index\n",
    "            elif mid_value > self.search_number:\n",
    "                list_right_index = mid_index - 1\n",
    "            else:\n",
    "                list_left_index = mid_index + 1\n",
    "\n",
    "        return list_left_index if list_left_index < len(each_max_number_list) else len(each_max_number_list) - 1\n",
    "\n",
    "    def start(self):\n",
    "        split_data_list, each_max_number_list = self.split_data()\n",
    "        print(split_data_list)\n",
    "        print(each_max_number_list)\n",
    "        max_near_number_index = self.check_search_number_belong_chunk(each_max_number_list=each_max_number_list)\n",
    "        print(max_near_number_index)\n",
    "\n",
    "\n",
    "\n",
    "\n",
    "\n",
    "if __name__ == '__main__':\n",
    "    data = [1, 11, 23, 45, 65, 67, 87, 89, 91, 205, 315, 327, 432, 521, 531, 754, 876, 890, 931, 956, 999]\n",
    "    ChunkSearch(data=data, search_number=315).start()\n"
   ],
   "id": "d25c971a27bb4087"
  },
  {
   "metadata": {},
   "cell_type": "markdown",
   "source": "这段代码只实现了目标数所在的分块后的列表，后续可以使用二分法等，在分块列表中查找目标数",
   "id": "ac4a7f36ebc22d2a"
  }
 ],
 "metadata": {
  "kernelspec": {
   "display_name": "Python 3",
   "language": "python",
   "name": "python3"
  },
  "language_info": {
   "codemirror_mode": {
    "name": "ipython",
    "version": 2
   },
   "file_extension": ".py",
   "mimetype": "text/x-python",
   "name": "python",
   "nbconvert_exporter": "python",
   "pygments_lexer": "ipython2",
   "version": "2.7.6"
  }
 },
 "nbformat": 4,
 "nbformat_minor": 5
}
