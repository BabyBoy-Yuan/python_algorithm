{
 "cells": [
  {
   "metadata": {},
   "cell_type": "markdown",
   "source": [
    "### 插值查找是利用公式推断目标位置\n",
    "计算公司为： target_index = left_index + (target_num-data[left_index])/(data[right_index]-data[left_index]) * (right_index-left_index)\n",
    "\n",
    "假如有一个数组 [15, 25, 30, 45, 50, 66, 78, 82, 91, 97]\n"
   ],
   "id": "383c04b9b53798f"
  },
  {
   "metadata": {
    "ExecuteTime": {
     "end_time": "2025-03-11T15:58:01.275777Z",
     "start_time": "2025-03-11T15:57:56.754825Z"
    }
   },
   "cell_type": "code",
   "source": [
    "data_list =  [15, 25, 30, 45, 50, 66, 78, 82, 91, 97]\n",
    "def search_num(data_list, search_number):\n",
    "    left_index = 0\n",
    "    right_index = len(data_list) - 1\n",
    "    while left_index <= right_index and search_number != -1:\n",
    "        target_index = left_index + int((search_number-data_list[left_index])/(data_list[right_index]-data_list[left_index]) * (right_index-left_index))\n",
    "        if search_number == data_list[target_index]:\n",
    "            print(\"find search number:\", search_number, \"index:\", target_index)\n",
    "            return target_index\n",
    "        elif search_number < data_list[target_index]:\n",
    "            right_index = target_index - 1\n",
    "        elif search_number > data_list[target_index]:\n",
    "            left_index = target_index + 1\n",
    "    return -2\n",
    "\n",
    "while True:\n",
    "    search_number = int(input(\"input search number: \"))\n",
    "    if search_number == -1:\n",
    "        break\n",
    "    target_index_result = search_num(data_list=data_list, search_number=search_number)\n",
    "    if target_index_result == -2:\n",
    "        print(\"Can not find search number:\", search_number)\n",
    "    else:\n",
    "        print(\"find search number:\", target_index_result)"
   ],
   "id": "74eee42eb5b6583b",
   "outputs": [
    {
     "name": "stdout",
     "output_type": "stream",
     "text": [
      "Can not find search number: 14\n"
     ]
    },
    {
     "ename": "KeyboardInterrupt",
     "evalue": "Interrupted by user",
     "output_type": "error",
     "traceback": [
      "\u001B[31m---------------------------------------------------------------------------\u001B[39m",
      "\u001B[31mKeyboardInterrupt\u001B[39m                         Traceback (most recent call last)",
      "\u001B[36mCell\u001B[39m\u001B[36m \u001B[39m\u001B[32mIn[4]\u001B[39m\u001B[32m, line 17\u001B[39m\n\u001B[32m     14\u001B[39m     \u001B[38;5;28;01mreturn\u001B[39;00m -\u001B[32m2\u001B[39m\n\u001B[32m     16\u001B[39m \u001B[38;5;28;01mwhile\u001B[39;00m \u001B[38;5;28;01mTrue\u001B[39;00m:\n\u001B[32m---> \u001B[39m\u001B[32m17\u001B[39m     search_number = \u001B[38;5;28mint\u001B[39m(\u001B[38;5;28;43minput\u001B[39;49m\u001B[43m(\u001B[49m\u001B[33;43m\"\u001B[39;49m\u001B[33;43minput search number: \u001B[39;49m\u001B[33;43m\"\u001B[39;49m\u001B[43m)\u001B[49m)\n\u001B[32m     18\u001B[39m     \u001B[38;5;28;01mif\u001B[39;00m search_number == -\u001B[32m1\u001B[39m:\n\u001B[32m     19\u001B[39m         \u001B[38;5;28;01mbreak\u001B[39;00m\n",
      "\u001B[36mFile \u001B[39m\u001B[32m~\\AppData\\Roaming\\Python\\Python312\\site-packages\\ipykernel\\kernelbase.py:1282\u001B[39m, in \u001B[36mKernel.raw_input\u001B[39m\u001B[34m(self, prompt)\u001B[39m\n\u001B[32m   1280\u001B[39m     msg = \u001B[33m\"\u001B[39m\u001B[33mraw_input was called, but this frontend does not support input requests.\u001B[39m\u001B[33m\"\u001B[39m\n\u001B[32m   1281\u001B[39m     \u001B[38;5;28;01mraise\u001B[39;00m StdinNotImplementedError(msg)\n\u001B[32m-> \u001B[39m\u001B[32m1282\u001B[39m \u001B[38;5;28;01mreturn\u001B[39;00m \u001B[38;5;28;43mself\u001B[39;49m\u001B[43m.\u001B[49m\u001B[43m_input_request\u001B[49m\u001B[43m(\u001B[49m\n\u001B[32m   1283\u001B[39m \u001B[43m    \u001B[49m\u001B[38;5;28;43mstr\u001B[39;49m\u001B[43m(\u001B[49m\u001B[43mprompt\u001B[49m\u001B[43m)\u001B[49m\u001B[43m,\u001B[49m\n\u001B[32m   1284\u001B[39m \u001B[43m    \u001B[49m\u001B[38;5;28;43mself\u001B[39;49m\u001B[43m.\u001B[49m\u001B[43m_parent_ident\u001B[49m\u001B[43m[\u001B[49m\u001B[33;43m\"\u001B[39;49m\u001B[33;43mshell\u001B[39;49m\u001B[33;43m\"\u001B[39;49m\u001B[43m]\u001B[49m\u001B[43m,\u001B[49m\n\u001B[32m   1285\u001B[39m \u001B[43m    \u001B[49m\u001B[38;5;28;43mself\u001B[39;49m\u001B[43m.\u001B[49m\u001B[43mget_parent\u001B[49m\u001B[43m(\u001B[49m\u001B[33;43m\"\u001B[39;49m\u001B[33;43mshell\u001B[39;49m\u001B[33;43m\"\u001B[39;49m\u001B[43m)\u001B[49m\u001B[43m,\u001B[49m\n\u001B[32m   1286\u001B[39m \u001B[43m    \u001B[49m\u001B[43mpassword\u001B[49m\u001B[43m=\u001B[49m\u001B[38;5;28;43;01mFalse\u001B[39;49;00m\u001B[43m,\u001B[49m\n\u001B[32m   1287\u001B[39m \u001B[43m\u001B[49m\u001B[43m)\u001B[49m\n",
      "\u001B[36mFile \u001B[39m\u001B[32m~\\AppData\\Roaming\\Python\\Python312\\site-packages\\ipykernel\\kernelbase.py:1325\u001B[39m, in \u001B[36mKernel._input_request\u001B[39m\u001B[34m(self, prompt, ident, parent, password)\u001B[39m\n\u001B[32m   1322\u001B[39m \u001B[38;5;28;01mexcept\u001B[39;00m \u001B[38;5;167;01mKeyboardInterrupt\u001B[39;00m:\n\u001B[32m   1323\u001B[39m     \u001B[38;5;66;03m# re-raise KeyboardInterrupt, to truncate traceback\u001B[39;00m\n\u001B[32m   1324\u001B[39m     msg = \u001B[33m\"\u001B[39m\u001B[33mInterrupted by user\u001B[39m\u001B[33m\"\u001B[39m\n\u001B[32m-> \u001B[39m\u001B[32m1325\u001B[39m     \u001B[38;5;28;01mraise\u001B[39;00m \u001B[38;5;167;01mKeyboardInterrupt\u001B[39;00m(msg) \u001B[38;5;28;01mfrom\u001B[39;00m \u001B[38;5;28;01mNone\u001B[39;00m\n\u001B[32m   1326\u001B[39m \u001B[38;5;28;01mexcept\u001B[39;00m \u001B[38;5;167;01mException\u001B[39;00m:\n\u001B[32m   1327\u001B[39m     \u001B[38;5;28mself\u001B[39m.log.warning(\u001B[33m\"\u001B[39m\u001B[33mInvalid Message:\u001B[39m\u001B[33m\"\u001B[39m, exc_info=\u001B[38;5;28;01mTrue\u001B[39;00m)\n",
      "\u001B[31mKeyboardInterrupt\u001B[39m: Interrupted by user"
     ]
    }
   ],
   "execution_count": 4
  },
  {
   "metadata": {},
   "cell_type": "markdown",
   "source": [
    "代码说明：\n",
    "\n",
    "先以25为例，带入计算公式得出： 0 + (25-15)/(97-15) * (9 - 0)\n",
    "\n",
    "得出结果： 1\n",
    "\n",
    "所以判断 25 == data_list[1]\n",
    "\n",
    "得出目标函数\n",
    "\n",
    "在以14为例子：\n",
    "\n",
    "0 + -1 / 82 * 9\n",
    "\n",
    "得出 0\n",
    "\n",
    "所以： search_number < data_list[target_index]\n",
    "\n",
    "right_index = 0 + -1 = -1\n",
    "\n",
    "while 语句判断  left_index <= right_index  0 <= -1 失败 退出while循环，返回-2\n"
   ],
   "id": "b4354704f4920373"
  },
  {
   "metadata": {},
   "cell_type": "code",
   "outputs": [],
   "execution_count": null,
   "source": "",
   "id": "13f030b69929841c"
  }
 ],
 "metadata": {
  "kernelspec": {
   "display_name": "Python 3",
   "language": "python",
   "name": "python3"
  },
  "language_info": {
   "codemirror_mode": {
    "name": "ipython",
    "version": 2
   },
   "file_extension": ".py",
   "mimetype": "text/x-python",
   "name": "python",
   "nbconvert_exporter": "python",
   "pygments_lexer": "ipython2",
   "version": "2.7.6"
  }
 },
 "nbformat": 4,
 "nbformat_minor": 5
}
