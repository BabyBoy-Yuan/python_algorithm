{
 "cells": [
  {
   "cell_type": "code",
   "execution_count": null,
   "id": "initial_id",
   "metadata": {
    "collapsed": true
   },
   "outputs": [],
   "source": "# 最垃圾的一个算法，不做过多解释"
  },
  {
   "metadata": {},
   "cell_type": "code",
   "outputs": [],
   "execution_count": null,
   "source": [
    "# 生成50个随机数\n",
    "import random\n",
    "num = 0\n",
    "data = [0] * 50\n",
    "for i in range(50):\n",
    "    data[i] = random.randint(1, 100)\n",
    "for i in range(10):\n",
    "    for j in range(5):\n",
    "        print('%2d[%3d]' % (i * 5 + j + 1, data[i * 5 + j]), end='')\n",
    "    print('')\n",
    "while num != -1:\n",
    "    find_num = 0\n",
    "    num = int(input(\"输入要查找的数据：\"))\n",
    "    for i in range(50):\n",
    "        if data[i] == num:\n",
    "            print(\"在\", i + 1, \"个位置找到数据\", data[i])\n",
    "            find_num += 1\n",
    "    if find_num == 0 and num != -1:\n",
    "        print(\"未找到数据\")"
   ],
   "id": "a91793a1298ab73b"
  }
 ],
 "metadata": {
  "kernelspec": {
   "display_name": "Python 3",
   "language": "python",
   "name": "python3"
  },
  "language_info": {
   "codemirror_mode": {
    "name": "ipython",
    "version": 2
   },
   "file_extension": ".py",
   "mimetype": "text/x-python",
   "name": "python",
   "nbconvert_exporter": "python",
   "pygments_lexer": "ipython2",
   "version": "2.7.6"
  }
 },
 "nbformat": 4,
 "nbformat_minor": 5
}
